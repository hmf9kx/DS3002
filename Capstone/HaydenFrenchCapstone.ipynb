{
 "cells": [
  {
   "cell_type": "markdown",
   "metadata": {},
   "source": [
    "# Hayden French (hmf9kx) Capstone Project"
   ]
  },
  {
   "cell_type": "markdown",
   "metadata": {},
   "source": [
    "## Overview"
   ]
  },
  {
   "cell_type": "markdown",
   "metadata": {},
   "source": [
    "This project creates and populates a dimensional data mart modeling sales for a fictional company. It draws data from a SQL (MySQL) database, a NoSQL database (MongoDB), and an API (Reddit)."
   ]
  },
  {
   "cell_type": "markdown",
   "metadata": {},
   "source": [
    "### API"
   ]
  },
  {
   "cell_type": "markdown",
   "metadata": {},
   "source": [
    "The API will be used to create the transaction dimension. In order to be able to analyze streaming data I wanted a date corresponding to each transaction. I used the Reddit API to generate pseudo-random transactions for the company, with popular posts corresponding with succesful sales at the company. The date of each transaction can be joined with the date dimension from SQL for later analysis."
   ]
  },
  {
   "cell_type": "code",
   "execution_count": 23,
   "metadata": {},
   "outputs": [],
   "source": [
    "# Importing necessary packages\n",
    "import requests\n",
    "import pandas as pd\n",
    "from configparser import ConfigParser\n",
    "import datetime"
   ]
  },
  {
   "cell_type": "code",
   "execution_count": 24,
   "metadata": {},
   "outputs": [],
   "source": [
    "# Public credentials\n",
    "username = 'DS3002API'\n",
    "client_id = 'no9xCWocGbF-E_D-6U8Meg'"
   ]
  },
  {
   "cell_type": "code",
   "execution_count": 25,
   "metadata": {},
   "outputs": [],
   "source": [
    "# Reading confidential credentials from a seperate file\n",
    "parser = ConfigParser()\n",
    "\n",
    "try:\n",
    "    _ = parser.read('notebook.cfg')\n",
    "except:\n",
    "    print('Unable to read configuration file')\n",
    "    \n",
    "try:\n",
    "    secret_key = parser.get('my_api', 'secret_key')\n",
    "    pw = parser.get('my_api', 'pw')\n",
    "except:\n",
    "    print('Unable to fetch secret key and/or password')"
   ]
  },
  {
   "cell_type": "code",
   "execution_count": 26,
   "metadata": {},
   "outputs": [],
   "source": [
    "# Authenticating credentials\n",
    "try:\n",
    "    auth = requests.auth.HTTPBasicAuth(client_id, secret_key)\n",
    "except:\n",
    "    print('Unable to authenticate client id and/or secret key')"
   ]
  },
  {
   "cell_type": "code",
   "execution_count": 27,
   "metadata": {},
   "outputs": [],
   "source": [
    "data = {\n",
    "    'grant_type': 'password',\n",
    "    'username': username,\n",
    "    'password': pw\n",
    "}\n",
    "\n",
    "headers = {'User-Agent': 'My DS3002 API'}"
   ]
  },
  {
   "cell_type": "code",
   "execution_count": 28,
   "metadata": {},
   "outputs": [],
   "source": [
    "# Retrieving access token from the api\n",
    "try:\n",
    "    res = requests.post('https://www.reddit.com/api/v1/access_token', auth=auth, data=data, headers=headers)\n",
    "    token = res.json()['access_token']\n",
    "except:\n",
    "    print('Unable to retrieve access token')"
   ]
  },
  {
   "cell_type": "code",
   "execution_count": 29,
   "metadata": {},
   "outputs": [],
   "source": [
    "headers['Authorization'] = f'bearer {token}'"
   ]
  },
  {
   "cell_type": "code",
   "execution_count": 30,
   "metadata": {},
   "outputs": [],
   "source": [
    "# Requesting data as a json\n",
    "try:\n",
    "    r = requests.get(f'https://oauth.reddit.com/r/news/top', headers=headers, params={'t': 'month', 'limit': '100'}).json()\n",
    "except:\n",
    "    print('Unable to fetch posts')"
   ]
  },
  {
   "cell_type": "code",
   "execution_count": 31,
   "metadata": {},
   "outputs": [],
   "source": [
    "df_transactions = pd.DataFrame(data={'transaction_id': [], 'product_id': [], 'sales_rep_id': [], 'quantity': [], \n",
    "                        'date': []}).astype({'transaction_id': int, 'product_id': int, 'sales_rep_id': int,\n",
    "                                             'quantity': int, 'date': str})"
   ]
  },
  {
   "cell_type": "code",
   "execution_count": 32,
   "metadata": {},
   "outputs": [],
   "source": [
    "for i in range(0, 100):\n",
    "    data = r['data']['children'][i]['data']\n",
    "    transaction_id = i + 1\n",
    "    unix_time = int(data['created'])\n",
    "    ups = data['ups']\n",
    "    product_id = unix_time % 10 + 1\n",
    "    sales_rep_id = ups % 10 + 1\n",
    "    quantity = data['total_awards_received'] + 1\n",
    "    date_time = datetime.datetime.utcfromtimestamp(unix_time).date()\n",
    "    date = str(date_time).replace(\"-\", \"/\")\n",
    "    \n",
    "    df_transactions.loc[i] = [transaction_id, product_id, sales_rep_id, quantity, date]"
   ]
  },
  {
   "cell_type": "code",
   "execution_count": 33,
   "metadata": {},
   "outputs": [
    {
     "data": {
      "text/html": [
       "<div>\n",
       "<style scoped>\n",
       "    .dataframe tbody tr th:only-of-type {\n",
       "        vertical-align: middle;\n",
       "    }\n",
       "\n",
       "    .dataframe tbody tr th {\n",
       "        vertical-align: top;\n",
       "    }\n",
       "\n",
       "    .dataframe thead th {\n",
       "        text-align: right;\n",
       "    }\n",
       "</style>\n",
       "<table border=\"1\" class=\"dataframe\">\n",
       "  <thead>\n",
       "    <tr style=\"text-align: right;\">\n",
       "      <th></th>\n",
       "      <th>transaction_id</th>\n",
       "      <th>product_id</th>\n",
       "      <th>sales_rep_id</th>\n",
       "      <th>quantity</th>\n",
       "      <th>date</th>\n",
       "    </tr>\n",
       "  </thead>\n",
       "  <tbody>\n",
       "    <tr>\n",
       "      <th>0</th>\n",
       "      <td>1</td>\n",
       "      <td>10</td>\n",
       "      <td>1</td>\n",
       "      <td>281</td>\n",
       "      <td>2022/05/03</td>\n",
       "    </tr>\n",
       "    <tr>\n",
       "      <th>1</th>\n",
       "      <td>2</td>\n",
       "      <td>2</td>\n",
       "      <td>1</td>\n",
       "      <td>48</td>\n",
       "      <td>2022/05/04</td>\n",
       "    </tr>\n",
       "    <tr>\n",
       "      <th>2</th>\n",
       "      <td>3</td>\n",
       "      <td>7</td>\n",
       "      <td>9</td>\n",
       "      <td>59</td>\n",
       "      <td>2022/05/03</td>\n",
       "    </tr>\n",
       "    <tr>\n",
       "      <th>3</th>\n",
       "      <td>4</td>\n",
       "      <td>9</td>\n",
       "      <td>1</td>\n",
       "      <td>25</td>\n",
       "      <td>2022/05/03</td>\n",
       "    </tr>\n",
       "    <tr>\n",
       "      <th>4</th>\n",
       "      <td>5</td>\n",
       "      <td>10</td>\n",
       "      <td>3</td>\n",
       "      <td>51</td>\n",
       "      <td>2022/04/18</td>\n",
       "    </tr>\n",
       "    <tr>\n",
       "      <th>...</th>\n",
       "      <td>...</td>\n",
       "      <td>...</td>\n",
       "      <td>...</td>\n",
       "      <td>...</td>\n",
       "      <td>...</td>\n",
       "    </tr>\n",
       "    <tr>\n",
       "      <th>95</th>\n",
       "      <td>96</td>\n",
       "      <td>9</td>\n",
       "      <td>6</td>\n",
       "      <td>1</td>\n",
       "      <td>2022/04/18</td>\n",
       "    </tr>\n",
       "    <tr>\n",
       "      <th>96</th>\n",
       "      <td>97</td>\n",
       "      <td>1</td>\n",
       "      <td>10</td>\n",
       "      <td>12</td>\n",
       "      <td>2022/05/04</td>\n",
       "    </tr>\n",
       "    <tr>\n",
       "      <th>97</th>\n",
       "      <td>98</td>\n",
       "      <td>10</td>\n",
       "      <td>10</td>\n",
       "      <td>6</td>\n",
       "      <td>2022/05/03</td>\n",
       "    </tr>\n",
       "    <tr>\n",
       "      <th>98</th>\n",
       "      <td>99</td>\n",
       "      <td>9</td>\n",
       "      <td>3</td>\n",
       "      <td>1</td>\n",
       "      <td>2022/04/23</td>\n",
       "    </tr>\n",
       "    <tr>\n",
       "      <th>99</th>\n",
       "      <td>100</td>\n",
       "      <td>7</td>\n",
       "      <td>4</td>\n",
       "      <td>4</td>\n",
       "      <td>2022/04/12</td>\n",
       "    </tr>\n",
       "  </tbody>\n",
       "</table>\n",
       "<p>100 rows × 5 columns</p>\n",
       "</div>"
      ],
      "text/plain": [
       "    transaction_id  product_id  sales_rep_id  quantity        date\n",
       "0                1          10             1       281  2022/05/03\n",
       "1                2           2             1        48  2022/05/04\n",
       "2                3           7             9        59  2022/05/03\n",
       "3                4           9             1        25  2022/05/03\n",
       "4                5          10             3        51  2022/04/18\n",
       "..             ...         ...           ...       ...         ...\n",
       "95              96           9             6         1  2022/04/18\n",
       "96              97           1            10        12  2022/05/04\n",
       "97              98          10            10         6  2022/05/03\n",
       "98              99           9             3         1  2022/04/23\n",
       "99             100           7             4         4  2022/04/12\n",
       "\n",
       "[100 rows x 5 columns]"
      ]
     },
     "execution_count": 33,
     "metadata": {},
     "output_type": "execute_result"
    }
   ],
   "source": [
    "df_transactions"
   ]
  },
  {
   "cell_type": "markdown",
   "metadata": {},
   "source": [
    "### MySQL"
   ]
  },
  {
   "cell_type": "markdown",
   "metadata": {},
   "source": [
    "The MySQL database encapsulates the product dimension. I created a fictional product line of 10 food items with corresponsing prices. I also used the provided code to create the date dimension in MySQL. This will later be combined with the date in the transaction database."
   ]
  },
  {
   "cell_type": "code",
   "execution_count": 34,
   "metadata": {},
   "outputs": [],
   "source": [
    "from sqlalchemy import create_engine"
   ]
  },
  {
   "cell_type": "code",
   "execution_count": 35,
   "metadata": {},
   "outputs": [],
   "source": [
    "host_name = \"localhost\"\n",
    "host_ip = \"127.0.0.1\"\n",
    "port = \"3306\"\n",
    "\n",
    "user_id = \"root\"\n",
    "pwd = \"Passw0rd123\"\n",
    "\n",
    "dbname = \"capstone\""
   ]
  },
  {
   "cell_type": "code",
   "execution_count": 36,
   "metadata": {},
   "outputs": [],
   "source": [
    "def get_dataframe(user_id, pwd, host_name, db_name, sql_query):\n",
    "    conn_str = f\"mysql+pymysql://{user_id}:{pwd}@{host_name}/{db_name}\"\n",
    "    sqlEngine = create_engine(conn_str, pool_recycle=3600)\n",
    "    connection = sqlEngine.connect()\n",
    "    dframe = pd.read_sql(sql_query, connection);\n",
    "    connection.close()\n",
    "    \n",
    "    return dframe"
   ]
  },
  {
   "cell_type": "code",
   "execution_count": 47,
   "metadata": {},
   "outputs": [],
   "source": [
    "products = \"SELECT * FROM capstone.dim_products;\"\n",
    "df_products= get_dataframe(user_id, pwd, host_name, dbname, products)\n",
    "\n",
    "date = \"SELECT * FROM capstone.dim_date\"\n",
    "df_date= get_dataframe(user_id, pwd, host_name, dbname, date)"
   ]
  },
  {
   "cell_type": "code",
   "execution_count": 38,
   "metadata": {},
   "outputs": [
    {
     "data": {
      "text/html": [
       "<div>\n",
       "<style scoped>\n",
       "    .dataframe tbody tr th:only-of-type {\n",
       "        vertical-align: middle;\n",
       "    }\n",
       "\n",
       "    .dataframe tbody tr th {\n",
       "        vertical-align: top;\n",
       "    }\n",
       "\n",
       "    .dataframe thead th {\n",
       "        text-align: right;\n",
       "    }\n",
       "</style>\n",
       "<table border=\"1\" class=\"dataframe\">\n",
       "  <thead>\n",
       "    <tr style=\"text-align: right;\">\n",
       "      <th></th>\n",
       "      <th>product_key</th>\n",
       "      <th>name</th>\n",
       "      <th>price</th>\n",
       "      <th>in_stock</th>\n",
       "    </tr>\n",
       "  </thead>\n",
       "  <tbody>\n",
       "    <tr>\n",
       "      <th>0</th>\n",
       "      <td>1</td>\n",
       "      <td>Chips</td>\n",
       "      <td>2</td>\n",
       "      <td>1</td>\n",
       "    </tr>\n",
       "    <tr>\n",
       "      <th>1</th>\n",
       "      <td>2</td>\n",
       "      <td>Soda</td>\n",
       "      <td>5</td>\n",
       "      <td>1</td>\n",
       "    </tr>\n",
       "    <tr>\n",
       "      <th>2</th>\n",
       "      <td>3</td>\n",
       "      <td>Milk</td>\n",
       "      <td>2</td>\n",
       "      <td>1</td>\n",
       "    </tr>\n",
       "    <tr>\n",
       "      <th>3</th>\n",
       "      <td>4</td>\n",
       "      <td>Bread</td>\n",
       "      <td>3</td>\n",
       "      <td>1</td>\n",
       "    </tr>\n",
       "    <tr>\n",
       "      <th>4</th>\n",
       "      <td>5</td>\n",
       "      <td>Chicken</td>\n",
       "      <td>10</td>\n",
       "      <td>1</td>\n",
       "    </tr>\n",
       "    <tr>\n",
       "      <th>5</th>\n",
       "      <td>6</td>\n",
       "      <td>Cereal</td>\n",
       "      <td>6</td>\n",
       "      <td>1</td>\n",
       "    </tr>\n",
       "    <tr>\n",
       "      <th>6</th>\n",
       "      <td>7</td>\n",
       "      <td>Eggs</td>\n",
       "      <td>4</td>\n",
       "      <td>1</td>\n",
       "    </tr>\n",
       "    <tr>\n",
       "      <th>7</th>\n",
       "      <td>8</td>\n",
       "      <td>Cheese</td>\n",
       "      <td>4</td>\n",
       "      <td>1</td>\n",
       "    </tr>\n",
       "    <tr>\n",
       "      <th>8</th>\n",
       "      <td>9</td>\n",
       "      <td>Cookies</td>\n",
       "      <td>5</td>\n",
       "      <td>1</td>\n",
       "    </tr>\n",
       "    <tr>\n",
       "      <th>9</th>\n",
       "      <td>10</td>\n",
       "      <td>Candy</td>\n",
       "      <td>2</td>\n",
       "      <td>1</td>\n",
       "    </tr>\n",
       "  </tbody>\n",
       "</table>\n",
       "</div>"
      ],
      "text/plain": [
       "   product_key     name  price  in_stock\n",
       "0            1    Chips      2         1\n",
       "1            2     Soda      5         1\n",
       "2            3     Milk      2         1\n",
       "3            4    Bread      3         1\n",
       "4            5  Chicken     10         1\n",
       "5            6   Cereal      6         1\n",
       "6            7     Eggs      4         1\n",
       "7            8   Cheese      4         1\n",
       "8            9  Cookies      5         1\n",
       "9           10    Candy      2         1"
      ]
     },
     "execution_count": 38,
     "metadata": {},
     "output_type": "execute_result"
    }
   ],
   "source": [
    "df_products"
   ]
  },
  {
   "cell_type": "code",
   "execution_count": 48,
   "metadata": {},
   "outputs": [],
   "source": [
    "df_date.full_date = df_date.full_date.astype(str)\n",
    "#CHANGE full_date TO STRING"
   ]
  },
  {
   "cell_type": "markdown",
   "metadata": {},
   "source": [
    "### NoSQL"
   ]
  },
  {
   "cell_type": "markdown",
   "metadata": {},
   "source": [
    "The MongoDB database encapsulates the sales representative dimension. I created 10 employees and their corresponding information. Each employee is also either a member of sales team A or sales team B."
   ]
  },
  {
   "cell_type": "code",
   "execution_count": 40,
   "metadata": {},
   "outputs": [],
   "source": [
    "import pymongo"
   ]
  },
  {
   "cell_type": "code",
   "execution_count": 41,
   "metadata": {},
   "outputs": [],
   "source": [
    "host_name = \"localhost\"\n",
    "port = 27017\n",
    "\n",
    "user_id = \"root\"\n",
    "pwd = \"Passw0rd123\"\n",
    "\n",
    "src_dbname = \"capstone\""
   ]
  },
  {
   "cell_type": "code",
   "execution_count": 42,
   "metadata": {},
   "outputs": [],
   "source": [
    "def get_mongo_dataframe(user_id, pwd, host_name, port, db_name, collection, query):\n",
    "    '''Create a connection to MongoDB, with or without authentication credentials'''\n",
    "    if user_id and pwd:\n",
    "        mongo_uri = 'mongodb://%s:%s@%s:%s/%s' % (username, password, host, port, db_name)\n",
    "        client = pymongo.MongoClient(mongo_uri)\n",
    "    else:\n",
    "        conn_str = f\"mongodb://{host_name}:{port}/\"\n",
    "        client = pymongo.MongoClient(conn_str)\n",
    "    \n",
    "    '''Query MongoDB, and fill a python list with documents to create a DataFrame'''\n",
    "    db = client[db_name]\n",
    "    dframe = pd.DataFrame(list(db[collection].find(query)))\n",
    "    dframe.drop(['_id'], axis=1, inplace=True)\n",
    "    client.close()\n",
    "    \n",
    "    return dframe"
   ]
  },
  {
   "cell_type": "code",
   "execution_count": 43,
   "metadata": {},
   "outputs": [],
   "source": [
    "query = {}\n",
    "collection = \"sales_reps\"\n",
    "\n",
    "df_sales_reps = get_mongo_dataframe(None, None, host_name, port, src_dbname, collection, query)"
   ]
  },
  {
   "cell_type": "code",
   "execution_count": 44,
   "metadata": {},
   "outputs": [
    {
     "data": {
      "text/html": [
       "<div>\n",
       "<style scoped>\n",
       "    .dataframe tbody tr th:only-of-type {\n",
       "        vertical-align: middle;\n",
       "    }\n",
       "\n",
       "    .dataframe tbody tr th {\n",
       "        vertical-align: top;\n",
       "    }\n",
       "\n",
       "    .dataframe thead th {\n",
       "        text-align: right;\n",
       "    }\n",
       "</style>\n",
       "<table border=\"1\" class=\"dataframe\">\n",
       "  <thead>\n",
       "    <tr style=\"text-align: right;\">\n",
       "      <th></th>\n",
       "      <th>sales_rep_key</th>\n",
       "      <th>first_name</th>\n",
       "      <th>last_name</th>\n",
       "      <th>job_title</th>\n",
       "      <th>team</th>\n",
       "      <th>email</th>\n",
       "      <th>phone_number</th>\n",
       "    </tr>\n",
       "  </thead>\n",
       "  <tbody>\n",
       "    <tr>\n",
       "      <th>0</th>\n",
       "      <td>1</td>\n",
       "      <td>Adam</td>\n",
       "      <td>Anderson</td>\n",
       "      <td>Sales Manager</td>\n",
       "      <td>A</td>\n",
       "      <td>adama@gmail.com</td>\n",
       "      <td>4341728463</td>\n",
       "    </tr>\n",
       "    <tr>\n",
       "      <th>1</th>\n",
       "      <td>2</td>\n",
       "      <td>Barbara</td>\n",
       "      <td>Blake</td>\n",
       "      <td>Sales Manager</td>\n",
       "      <td>B</td>\n",
       "      <td>barbarab@gmail.com</td>\n",
       "      <td>4342617564</td>\n",
       "    </tr>\n",
       "    <tr>\n",
       "      <th>2</th>\n",
       "      <td>3</td>\n",
       "      <td>Cody</td>\n",
       "      <td>Covington</td>\n",
       "      <td>Sales Representative</td>\n",
       "      <td>A</td>\n",
       "      <td>codyc@gmail.com</td>\n",
       "      <td>4342672819</td>\n",
       "    </tr>\n",
       "    <tr>\n",
       "      <th>3</th>\n",
       "      <td>4</td>\n",
       "      <td>Dave</td>\n",
       "      <td>Douglass</td>\n",
       "      <td>Sales Representative</td>\n",
       "      <td>B</td>\n",
       "      <td>daved@gmail.com</td>\n",
       "      <td>4341675830</td>\n",
       "    </tr>\n",
       "    <tr>\n",
       "      <th>4</th>\n",
       "      <td>5</td>\n",
       "      <td>Evan</td>\n",
       "      <td>Earhart</td>\n",
       "      <td>Sales Representative</td>\n",
       "      <td>A</td>\n",
       "      <td>evane@gmail.com</td>\n",
       "      <td>4341529805</td>\n",
       "    </tr>\n",
       "    <tr>\n",
       "      <th>5</th>\n",
       "      <td>6</td>\n",
       "      <td>Frank</td>\n",
       "      <td>Falconer</td>\n",
       "      <td>Sales Representative</td>\n",
       "      <td>B</td>\n",
       "      <td>frankf@gmail.com</td>\n",
       "      <td>4341678923</td>\n",
       "    </tr>\n",
       "    <tr>\n",
       "      <th>6</th>\n",
       "      <td>7</td>\n",
       "      <td>Grace</td>\n",
       "      <td>Gaetz</td>\n",
       "      <td>Sales Representative</td>\n",
       "      <td>A</td>\n",
       "      <td>graceg@gmail.com</td>\n",
       "      <td>4347869041</td>\n",
       "    </tr>\n",
       "    <tr>\n",
       "      <th>7</th>\n",
       "      <td>8</td>\n",
       "      <td>Hailey</td>\n",
       "      <td>Harrington</td>\n",
       "      <td>Sales Representative</td>\n",
       "      <td>B</td>\n",
       "      <td>haileyh@gmail.com</td>\n",
       "      <td>4345618953</td>\n",
       "    </tr>\n",
       "    <tr>\n",
       "      <th>8</th>\n",
       "      <td>9</td>\n",
       "      <td>Igor</td>\n",
       "      <td>Irvin</td>\n",
       "      <td>Sales Representative</td>\n",
       "      <td>A</td>\n",
       "      <td>igori@gmail.com</td>\n",
       "      <td>4347759109</td>\n",
       "    </tr>\n",
       "    <tr>\n",
       "      <th>9</th>\n",
       "      <td>10</td>\n",
       "      <td>James</td>\n",
       "      <td>Johnson</td>\n",
       "      <td>Sales Representative</td>\n",
       "      <td>B</td>\n",
       "      <td>jamesj@gmail.com</td>\n",
       "      <td>4347859016</td>\n",
       "    </tr>\n",
       "  </tbody>\n",
       "</table>\n",
       "</div>"
      ],
      "text/plain": [
       "   sales_rep_key first_name   last_name             job_title team  \\\n",
       "0              1       Adam    Anderson         Sales Manager    A   \n",
       "1              2    Barbara       Blake         Sales Manager    B   \n",
       "2              3       Cody   Covington  Sales Representative    A   \n",
       "3              4       Dave    Douglass  Sales Representative    B   \n",
       "4              5       Evan     Earhart  Sales Representative    A   \n",
       "5              6      Frank    Falconer  Sales Representative    B   \n",
       "6              7      Grace       Gaetz  Sales Representative    A   \n",
       "7              8     Hailey  Harrington  Sales Representative    B   \n",
       "8              9       Igor       Irvin  Sales Representative    A   \n",
       "9             10      James     Johnson  Sales Representative    B   \n",
       "\n",
       "                email phone_number  \n",
       "0     adama@gmail.com   4341728463  \n",
       "1  barbarab@gmail.com   4342617564  \n",
       "2     codyc@gmail.com   4342672819  \n",
       "3     daved@gmail.com   4341675830  \n",
       "4     evane@gmail.com   4341529805  \n",
       "5    frankf@gmail.com   4341678923  \n",
       "6    graceg@gmail.com   4347869041  \n",
       "7   haileyh@gmail.com   4345618953  \n",
       "8     igori@gmail.com   4347759109  \n",
       "9    jamesj@gmail.com   4347859016  "
      ]
     },
     "execution_count": 44,
     "metadata": {},
     "output_type": "execute_result"
    }
   ],
   "source": [
    "df_sales_reps"
   ]
  },
  {
   "cell_type": "markdown",
   "metadata": {},
   "source": [
    "### Exporting from dataframes to jsons"
   ]
  },
  {
   "cell_type": "markdown",
   "metadata": {},
   "source": [
    "We now have all four of our dataframes processed in Python. Let's export these to .json files so we can easily upload them to Databricks."
   ]
  },
  {
   "cell_type": "code",
   "execution_count": 45,
   "metadata": {},
   "outputs": [],
   "source": [
    "import json"
   ]
  },
  {
   "cell_type": "code",
   "execution_count": 46,
   "metadata": {},
   "outputs": [],
   "source": [
    "df_transactions.to_json('transactions.json', orient='records')\n",
    "df_products.to_json('products.json', orient='records')\n",
    "df_date.to_json('date.json', orient='records')\n",
    "df_sales_reps.to_json('sales_reps.json', orient='records')"
   ]
  },
  {
   "cell_type": "markdown",
   "metadata": {},
   "source": [
    "### Putting it together in Databricks"
   ]
  },
  {
   "cell_type": "markdown",
   "metadata": {},
   "source": [
    "The rest of the joining/cleaning will take place in Databricks. Please see the ____ file for the Databricks Notebook. Note that the .json files imported in the notebook are the same files we just exported above. These are all available in the github."
   ]
  },
  {
   "cell_type": "markdown",
   "metadata": {},
   "source": [
    "### Visualizations"
   ]
  },
  {
   "cell_type": "markdown",
   "metadata": {},
   "source": [
    "After creating our final fact_orders table in Databricks, we can create our visualizations in Excel. The exported file from Databricks is \"export.csv\" but all of the visualizations can be found in \"visualizations.xlsx\""
   ]
  }
 ],
 "metadata": {
  "kernelspec": {
   "display_name": "Python 3",
   "language": "python",
   "name": "python3"
  },
  "language_info": {
   "codemirror_mode": {
    "name": "ipython",
    "version": 3
   },
   "file_extension": ".py",
   "mimetype": "text/x-python",
   "name": "python",
   "nbconvert_exporter": "python",
   "pygments_lexer": "ipython3",
   "version": "3.8.5"
  }
 },
 "nbformat": 4,
 "nbformat_minor": 4
}
